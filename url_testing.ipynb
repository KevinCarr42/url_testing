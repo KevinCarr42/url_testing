{
 "cells": [
  {
   "cell_type": "code",
   "execution_count": 1,
   "id": "df9ae223",
   "metadata": {},
   "outputs": [
    {
     "data": {
      "text/html": [
       "<style>.container { width:100% !important; }</style>"
      ],
      "text/plain": [
       "<IPython.core.display.HTML object>"
      ]
     },
     "metadata": {},
     "output_type": "display_data"
    }
   ],
   "source": [
    "import webbrowser\n",
    "import pandas as pd\n",
    "import numpy as np\n",
    "# jupyter notebook full-width display\n",
    "from IPython.core.display import display, HTML\n",
    "display(HTML(\"<style>.container { width:100% !important; }</style>\"))"
   ]
  },
  {
   "cell_type": "code",
   "execution_count": 2,
   "id": "a115f7b5",
   "metadata": {},
   "outputs": [],
   "source": [
    "# exported db tables for pk\n",
    "fish_pks = pd.read_csv('herring_fishdetail_202303300926.csv', low_memory=False).id.to_list()\n",
    "sample_pks = pd.read_csv('herring_sample_202303300926.csv', low_memory=False).id.to_list()"
   ]
  },
  {
   "cell_type": "code",
   "execution_count": 3,
   "id": "baf5ff53",
   "metadata": {},
   "outputs": [],
   "source": [
    "# open all of the url in new tabs\n",
    "# change permissions and make sure we don't get anywhere we don't belong\n",
    "\n",
    "# check a random sample and fish\n",
    "sample_pk, fish_pk = np.random.choice(sample_pks), np.random.choice(fish_pks)\n",
    "\n",
    "# urls to check \n",
    "urls = [\n",
    "    f'http://127.0.0.1:8000/en/herman/samples/',\n",
    "    f'http://127.0.0.1:8000/en/herman/samples/new/',\n",
    "    # SLOW, but works\n",
    "    # f'http://127.0.0.1:8000/en/herman/samples/{sample_pk}/edit/',\n",
    "    # dupe in urls.py\n",
    "    # f'http://127.0.0.1:8000/en/herman/samples/new/',  \n",
    "    f'http://127.0.0.1:8000/en/herman/samples/{sample_pk}/detail/',\n",
    "    f'http://127.0.0.1:8000/en/herman/samples/{sample_pk}/delete/',\n",
    "    f'http://127.0.0.1:8000/en/herman/samples/search/',\n",
    "    # doesn't work, but works in context\n",
    "    # f'http://127.0.0.1:8000/en/herman/samples/go-to-next/from-sample/{sample_pk}/',  \n",
    "    f'http://127.0.0.1:8000/en/herman/samples/merge/',\n",
    "    # can just type a non-eligible pk... maybe should redirect if not ok\n",
    "    f'http://127.0.0.1:8000/en/herman/samples/merge/{sample_pk}/',  \n",
    "    f'http://127.0.0.1:8000/en/herman/samples/{sample_pk}/length-frequencies/',\n",
    "    f'http://127.0.0.1:8000/en/herman/fish/{fish_pk}/view/',\n",
    "    # SLOW, but works\n",
    "    # f'http://127.0.0.1:8000/en/herman/fish/{fish_pk}/edit/',  \n",
    "    f'http://127.0.0.1:8000/en/herman/fish/{fish_pk}/delete/',\n",
    "    f'http://127.0.0.1:8000/en/herman/lab/samples/{sample_pk}/fish-board-test/',\n",
    "    f'http://127.0.0.1:8000/en/herman/lab/samples/{sample_pk}/lab-sample-confirmation/',\n",
    "    f'http://127.0.0.1:8000/en/herman/lab/samples/{sample_pk}/new-lab-sample/',\n",
    "    # this deletes the fish\n",
    "    # f'http://127.0.0.1:8000/en/herman/lab/delete/{fish_pk}/',  \n",
    "    f'http://127.0.0.1:8000/en/herman/lab/fish/{fish_pk}/',\n",
    "    f'http://127.0.0.1:8000/en/herman/otolith/fish/{fish_pk}/',\n",
    "    f'http://127.0.0.1:8000/en/herman/egg/fish/{fish_pk}/',\n",
    "    f'http://127.0.0.1:8000/en/herman/scale/fish/{fish_pk}/?reading=1',\n",
    "    f'http://127.0.0.1:8000/en/herman/scale/fish/{fish_pk}/?reading=2'\n",
    "]\n",
    "\n",
    "for url in urls:\n",
    "    webbrowser.open(url)"
   ]
  },
  {
   "cell_type": "code",
   "execution_count": null,
   "id": "3cf4acc4",
   "metadata": {},
   "outputs": [],
   "source": []
  }
 ],
 "metadata": {
  "kernelspec": {
   "display_name": "Python 3 (ipykernel)",
   "language": "python",
   "name": "python3"
  },
  "language_info": {
   "codemirror_mode": {
    "name": "ipython",
    "version": 3
   },
   "file_extension": ".py",
   "mimetype": "text/x-python",
   "name": "python",
   "nbconvert_exporter": "python",
   "pygments_lexer": "ipython3",
   "version": "3.9.13"
  }
 },
 "nbformat": 4,
 "nbformat_minor": 5
}
