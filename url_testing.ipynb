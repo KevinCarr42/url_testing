{
 "cells": [
  {
   "cell_type": "code",
   "execution_count": 1,
   "id": "df9ae223",
   "metadata": {},
   "outputs": [
    {
     "data": {
      "text/html": [
       "<style>.container { width:100% !important; }</style>"
      ],
      "text/plain": [
       "<IPython.core.display.HTML object>"
      ]
     },
     "metadata": {},
     "output_type": "display_data"
    }
   ],
   "source": [
    "import webbrowser\n",
    "import pandas as pd\n",
    "import numpy as np\n",
    "# jupyter notebook full-width display\n",
    "from IPython.core.display import display, HTML\n",
    "display(HTML(\"<style>.container { width:100% !important; }</style>\"))"
   ]
  },
  {
   "cell_type": "code",
   "execution_count": 2,
   "id": "a115f7b5",
   "metadata": {},
   "outputs": [],
   "source": [
    "# exported db tables for pk\n",
    "fish_pks = pd.read_csv('herring_fishdetail_202303300926.csv', low_memory=False).id.to_list()\n",
    "sample_pks = pd.read_csv('herring_sample_202303300926.csv', low_memory=False).id.to_list()\n",
    "\n",
    "# separate into herring and gaspereau\n",
    "fish_pks_gaspereau = pd.read_csv('herring_fishdetail_202303300926.csv', low_memory=False).query('species == 158667 or species == 158669').id.to_list()\n",
    "fish_pks_herring = pd.read_csv('herring_fishdetail_202303300926.csv', low_memory=False).query('species != 158667 and species != 158669').id.to_list()\n",
    "sample_pks_gaspereau = pd.read_csv('herring_sample_202303300926.csv', low_memory=False).query('catch_id == 3').id.to_list()\n",
    "sample_pks_herring = pd.read_csv('herring_sample_202303300926.csv', low_memory=False).query('catch_id == 2').id.to_list()"
   ]
  },
  {
   "cell_type": "code",
   "execution_count": 27,
   "id": "baf5ff53",
   "metadata": {},
   "outputs": [
    {
     "name": "stdout",
     "output_type": "stream",
     "text": [
      "herring\n",
      "http://127.0.0.1:8000/en/herman/samples/\n",
      "http://127.0.0.1:8000/en/herman/samples/new/\n",
      "http://127.0.0.1:8000/en/herman/samples/14828/detail/\n",
      "http://127.0.0.1:8000/en/herman/samples/14828/delete/\n",
      "http://127.0.0.1:8000/en/herman/samples/search/\n",
      "http://127.0.0.1:8000/en/herman/samples/merge/\n",
      "http://127.0.0.1:8000/en/herman/samples/merge/14828/\n",
      "http://127.0.0.1:8000/en/herman/samples/14828/length-frequencies/\n",
      "http://127.0.0.1:8000/en/herman/fish/653829/view/\n",
      "http://127.0.0.1:8000/en/herman/fish/653829/delete/\n",
      "http://127.0.0.1:8000/en/herman/lab/samples/14828/fish-board-test/\n",
      "http://127.0.0.1:8000/en/herman/lab/fish/653829/\n",
      "http://127.0.0.1:8000/en/herman/otolith/fish/653829/\n",
      "http://127.0.0.1:8000/en/herman/egg/fish/653829/\n",
      "http://127.0.0.1:8000/en/herman/scale/fish/653829/?reading=1\n",
      "http://127.0.0.1:8000/en/herman/scale/fish/653829/?reading=2\n"
     ]
    }
   ],
   "source": [
    "# open all of the url in new tabs\n",
    "# change permissions and make sure we don't get anywhere we don't belong\n",
    "\n",
    "# check a random sample and fish\n",
    "species = 'herring'\n",
    "if species == 'all':\n",
    "    sample_pk, fish_pk = np.random.choice(sample_pks), np.random.choice(fish_pks)\n",
    "elif species == 'gaspereau':\n",
    "    sample_pk, fish_pk = np.random.choice(sample_pks_gaspereau), np.random.choice(fish_pks_gaspereau)\n",
    "else:\n",
    "    sample_pk, fish_pk = np.random.choice(sample_pks_herring), np.random.choice(fish_pks_herring)\n",
    "\n",
    "# urls to check \n",
    "urls = [\n",
    "    f'http://127.0.0.1:8000/en/herman/samples/',\n",
    "    f'http://127.0.0.1:8000/en/herman/samples/new/',\n",
    "    # f'http://127.0.0.1:8000/en/herman/samples/{sample_pk}/edit/',\n",
    "    # f'http://127.0.0.1:8000/en/herman/samples/new/',  # DUPLICATE\n",
    "    f'http://127.0.0.1:8000/en/herman/samples/{sample_pk}/detail/',\n",
    "    f'http://127.0.0.1:8000/en/herman/samples/{sample_pk}/delete/',\n",
    "    f'http://127.0.0.1:8000/en/herman/samples/search/',\n",
    "    # f'http://127.0.0.1:8000/en/herman/samples/go-to-next/from-sample/{sample_pk}/',  \n",
    "    f'http://127.0.0.1:8000/en/herman/samples/merge/',\n",
    "    f'http://127.0.0.1:8000/en/herman/samples/merge/{sample_pk}/',  # can just type a non-eligible pk... maybe should redirect if not ok\n",
    "    f'http://127.0.0.1:8000/en/herman/samples/{sample_pk}/length-frequencies/',\n",
    "    f'http://127.0.0.1:8000/en/herman/fish/{fish_pk}/view/',\n",
    "    # f'http://127.0.0.1:8000/en/herman/fish/{fish_pk}/edit/',  \n",
    "    f'http://127.0.0.1:8000/en/herman/fish/{fish_pk}/delete/',\n",
    "    f'http://127.0.0.1:8000/en/herman/lab/samples/{sample_pk}/fish-board-test/',\n",
    "    # f'http://127.0.0.1:8000/en/herman/lab/samples/{sample_pk}/new-lab-sample/',\n",
    "    # f'http://127.0.0.1:8000/en/herman/lab/delete/{fish_pk}/',  \n",
    "    f'http://127.0.0.1:8000/en/herman/lab/fish/{fish_pk}/',\n",
    "    f'http://127.0.0.1:8000/en/herman/otolith/fish/{fish_pk}/',\n",
    "    f'http://127.0.0.1:8000/en/herman/egg/fish/{fish_pk}/',\n",
    "    f'http://127.0.0.1:8000/en/herman/scale/fish/{fish_pk}/?reading=1',\n",
    "    f'http://127.0.0.1:8000/en/herman/scale/fish/{fish_pk}/?reading=2'\n",
    "]\n",
    "print(species)\n",
    "for url in urls:\n",
    "    print(url)\n",
    "    webbrowser.open(url)"
   ]
  },
  {
   "cell_type": "code",
   "execution_count": 26,
   "id": "ee5a5cd6",
   "metadata": {},
   "outputs": [
    {
     "name": "stdout",
     "output_type": "stream",
     "text": [
      "herring\n"
     ]
    }
   ],
   "source": [
    "# loop through again\n",
    "print(species)\n",
    "for url in urls:\n",
    "    webbrowser.open(url)"
   ]
  },
  {
   "cell_type": "markdown",
   "id": "31406c11",
   "metadata": {},
   "source": [
    "## stuff I don't want to run repeatedly"
   ]
  },
  {
   "cell_type": "code",
   "execution_count": 28,
   "id": "6c29d972",
   "metadata": {},
   "outputs": [
    {
     "name": "stdout",
     "output_type": "stream",
     "text": [
      "http://127.0.0.1:8000/en/herman/samples/go-to-next/from-sample/14828/\n"
     ]
    }
   ],
   "source": [
    "# doesn't work, but works in context\n",
    "print(f'http://127.0.0.1:8000/en/herman/samples/go-to-next/from-sample/{sample_pk}/')"
   ]
  },
  {
   "cell_type": "code",
   "execution_count": 29,
   "id": "90a6294f",
   "metadata": {},
   "outputs": [
    {
     "name": "stdout",
     "output_type": "stream",
     "text": [
      "http://127.0.0.1:8000/en/herman/fish/653829/edit/\n",
      "http://127.0.0.1:8000/en/herman/samples/14828/edit/\n"
     ]
    }
   ],
   "source": [
    "# SLOW\n",
    "print(f'http://127.0.0.1:8000/en/herman/fish/{fish_pk}/edit/')\n",
    "print(f'http://127.0.0.1:8000/en/herman/samples/{sample_pk}/edit/')"
   ]
  },
  {
   "cell_type": "code",
   "execution_count": 30,
   "id": "9f82660c",
   "metadata": {},
   "outputs": [
    {
     "name": "stdout",
     "output_type": "stream",
     "text": [
      "http://127.0.0.1:8000/en/herman/lab/samples/14828/new-lab-sample/\n"
     ]
    }
   ],
   "source": [
    "# doesn't work because of META parent None, can't get to from a link so this should be fine\n",
    "print(f'http://127.0.0.1:8000/en/herman/lab/samples/{sample_pk}/new-lab-sample/')"
   ]
  },
  {
   "cell_type": "code",
   "execution_count": null,
   "id": "bc064a7c",
   "metadata": {},
   "outputs": [],
   "source": [
    "# THIS DELETES A FISH IF YOU HAVE PERMISSION\n",
    "print(f'http://127.0.0.1:8000/en/herman/lab/delete/{fish_pk}/')"
   ]
  },
  {
   "cell_type": "code",
   "execution_count": null,
   "id": "24559c89",
   "metadata": {},
   "outputs": [],
   "source": []
  },
  {
   "cell_type": "code",
   "execution_count": null,
   "id": "cf161407",
   "metadata": {},
   "outputs": [],
   "source": []
  }
 ],
 "metadata": {
  "kernelspec": {
   "display_name": "Python 3 (ipykernel)",
   "language": "python",
   "name": "python3"
  },
  "language_info": {
   "codemirror_mode": {
    "name": "ipython",
    "version": 3
   },
   "file_extension": ".py",
   "mimetype": "text/x-python",
   "name": "python",
   "nbconvert_exporter": "python",
   "pygments_lexer": "ipython3",
   "version": "3.9.13"
  }
 },
 "nbformat": 4,
 "nbformat_minor": 5
}
